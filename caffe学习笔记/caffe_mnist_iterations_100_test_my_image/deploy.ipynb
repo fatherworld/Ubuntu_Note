{
 "cells": [
  {
   "cell_type": "code",
   "execution_count": null,
   "metadata": {},
   "outputs": [],
   "source": [
    "# -*- coding: utf-8 -*-\n",
    "caffe_root = '/home/ys/soft/CaffePro'  \n",
    "import sys  \n",
    "sys.path.insert(0, caffe_root + 'python')  \n",
    "from caffe  import layers as L,params as P,to_proto\n",
    "root='/home/ys/soft/CaffePro'\n",
    "deploy='deploy.prototxt'    #文件保存路径\n",
    " \n",
    "def create_deploy():\n",
    "    #少了第一层，data层\n",
    "    conv1=L.Convolution(name='conv1',bottom='data', kernel_size=5, stride=1,num_output=20, pad=0,weight_filler=dict(type='xavier'))\n",
    "    pool1=L.Pooling(conv1,name='pool1',pool=P.Pooling.MAX, kernel_size=2, stride=2)\n",
    "    conv2=L.Convolution(pool1, name='conv2',kernel_size=5, stride=1,num_output=50, pad=0,weight_filler=dict(type='xavier'))\n",
    "    pool2=L.Pooling(conv2, name='pool2',top='pool2', pool=P.Pooling.MAX, kernel_size=2, stride=2)\n",
    "    fc3=L.InnerProduct(pool2, name='ip1',num_output=500,weight_filler=dict(type='xavier'))\n",
    "    relu3=L.ReLU(fc3, name='relu1',in_place=True)\n",
    "    fc4 = L.InnerProduct(relu3, name='ip2',num_output=10,weight_filler=dict(type='xavier'))\n",
    "    #最后没有accuracy层，但有一个Softmax层\n",
    "    prob=L.Softmax(fc4, name='prob')\n",
    "    return to_proto(prob)\n",
    "def write_deploy(): \n",
    "    with open(deploy, 'w') as f:\n",
    "        f.write('name:\"LeNet\"\\n')\n",
    "        f.write('layer {\\n')\n",
    "        f.write('name:\"data\"\\n')\n",
    "        f.write('type:\"Input\"\\n')\n",
    "        f.write('input_param { shape : {')\n",
    "        f.write('dim:1 ')\n",
    "        f.write('dim:3 ')\n",
    "        f.write('dim:28 ')\n",
    "        f.write('dim:28 ')\n",
    "        f.write('} }\\n\\n')\n",
    "        f.write(str(create_deploy()))\n",
    "\n",
    "write_deploy()\n"
   ]
  },
  {
   "cell_type": "code",
   "execution_count": 1,
   "metadata": {},
   "outputs": [
    {
     "ename": "ImportError",
     "evalue": "No module named 'caffe'",
     "output_type": "error",
     "traceback": [
      "\u001b[0;31m---------------------------------------------------------------------------\u001b[0m",
      "\u001b[0;31mImportError\u001b[0m                               Traceback (most recent call last)",
      "\u001b[0;32m<ipython-input-1-6e7bb19bc708>\u001b[0m in \u001b[0;36m<module>\u001b[0;34m\u001b[0m\n\u001b[0;32m----> 1\u001b[0;31m \u001b[0;32mimport\u001b[0m \u001b[0mcaffe\u001b[0m\u001b[0;34m\u001b[0m\u001b[0m\n\u001b[0m",
      "\u001b[0;31mImportError\u001b[0m: No module named 'caffe'"
     ]
    }
   ],
   "source": [
    "import caffe"
   ]
  },
  {
   "cell_type": "code",
   "execution_count": null,
   "metadata": {},
   "outputs": [],
   "source": []
  }
 ],
 "metadata": {
  "kernelspec": {
   "display_name": "Python 3",
   "language": "python",
   "name": "python3"
  },
  "language_info": {
   "codemirror_mode": {
    "name": "ipython",
    "version": 3
   },
   "file_extension": ".py",
   "mimetype": "text/x-python",
   "name": "python",
   "nbconvert_exporter": "python",
   "pygments_lexer": "ipython3",
   "version": "3.5.2"
  }
 },
 "nbformat": 4,
 "nbformat_minor": 2
}
